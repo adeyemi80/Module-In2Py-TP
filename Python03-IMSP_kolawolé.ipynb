{
 "cells": [
  {
   "cell_type": "markdown",
   "id": "30808bf4",
   "metadata": {},
   "source": [
    "  ##  TP3 PYTHON"
   ]
  },
  {
   "cell_type": "markdown",
   "id": "c9a269ce",
   "metadata": {},
   "source": [
    "# 1"
   ]
  },
  {
   "cell_type": "markdown",
   "id": "4377f4e1",
   "metadata": {},
   "source": [
    "## a/ Programme M qui fusionne les chaînes dans l'ordre alphabétique"
   ]
  },
  {
   "cell_type": "code",
   "execution_count": 32,
   "id": "a8d7cc58",
   "metadata": {},
   "outputs": [],
   "source": [
    "#M concatenation de chaînes\n",
    "def Mconcat(ch1, ch2):\n",
    "    i = j = k =0\n",
    "    ch = ''\n",
    "    while k < len(ch1) + len(ch2):\n",
    "        if i < len(ch1) and j < len(ch2):\n",
    "            if str(ch1[i]) < str(ch2[j]):\n",
    "                ch += str(ch1[i])\n",
    "                i += 1\n",
    "            else:\n",
    "                ch += str(ch2[j])\n",
    "                j += 1\n",
    "        k += 1\n",
    "    if i == len(ch1) and j < len(ch2):\n",
    "        ch += ch2[j:]\n",
    "    elif j == len(ch2) and i < len(ch1):\n",
    "        ch += ch1[i:]\n",
    "    return ch"
   ]
  },
  {
   "cell_type": "code",
   "execution_count": 33,
   "id": "0eb920d0",
   "metadata": {},
   "outputs": [
    {
     "data": {
      "text/plain": [
       "'aabdcerrt'"
      ]
     },
     "execution_count": 33,
     "metadata": {},
     "output_type": "execute_result"
    }
   ],
   "source": [
    "Mconcat( 'aaerrt', 'bdc')"
   ]
  },
  {
   "cell_type": "markdown",
   "id": "995dfa61",
   "metadata": {},
   "source": [
    "## b/ Programme M"
   ]
  },
  {
   "cell_type": "code",
   "execution_count": 34,
   "id": "e6824fee",
   "metadata": {},
   "outputs": [
    {
     "data": {
      "text/plain": [
       "'abbbccddd'"
      ]
     },
     "execution_count": 34,
     "metadata": {},
     "output_type": "execute_result"
    }
   ],
   "source": [
    "Mconcat( 'bdd', 'abbccd')"
   ]
  },
  {
   "cell_type": "markdown",
   "id": "c7c3d48d",
   "metadata": {},
   "source": [
    "## c/ fonction de tri"
   ]
  },
  {
   "cell_type": "code",
   "execution_count": null,
   "id": "73457c96",
   "metadata": {},
   "outputs": [],
   "source": [
    "# fonction de tri\n",
    "def S_tri(chaine):\n",
    "    if len(chaine) == 1:\n",
    "        return chaine\n",
    "    elif len(chaine) == 2:\n",
    "        return Mconcat(chaine[:1],chaine[1:])\n",
    "    else:     \n",
    "        ch1 = S_tri(chaine[:int(len(chaine)/2)])\n",
    "        ch2 = S_tri(chaine[int(len(chaine)/2):])\n",
    "        return Mconcat(ch1, ch2)\n",
    "    \n",
    " "
   ]
  },
  {
   "cell_type": "code",
   "execution_count": 63,
   "id": "b21f2574",
   "metadata": {},
   "outputs": [
    {
     "data": {
      "text/plain": [
       "'abcdeffghqstvwwxyz'"
      ]
     },
     "execution_count": 63,
     "metadata": {},
     "output_type": "execute_result"
    }
   ],
   "source": [
    " S_tri('hgffdsqazetybvcxww')"
   ]
  },
  {
   "cell_type": "markdown",
   "id": "0e28d426",
   "metadata": {},
   "source": [
    "## d/ Programme M modifié"
   ]
  },
  {
   "cell_type": "code",
   "execution_count": 56,
   "id": "a71adf55",
   "metadata": {},
   "outputs": [],
   "source": [
    "def M_modifié(ch1, ch2):\n",
    "    return Mconcat(S_tri(ch1), S_tri(ch2))\n",
    "    "
   ]
  },
  {
   "cell_type": "code",
   "execution_count": 57,
   "id": "8ffc7809",
   "metadata": {},
   "outputs": [
    {
     "data": {
      "text/plain": [
       "'abdefhhhqrtyz'"
      ]
     },
     "execution_count": 57,
     "metadata": {},
     "output_type": "execute_result"
    }
   ],
   "source": [
    "M_modifié('azerty', 'qdfbhhh')"
   ]
  },
  {
   "cell_type": "markdown",
   "id": "548678e4",
   "metadata": {},
   "source": [
    "# e"
   ]
  },
  {
   "cell_type": "markdown",
   "id": "6c66b221",
   "metadata": {},
   "source": [
    " ## i/ #lit une phrase et trouve la première voyelle"
   ]
  },
  {
   "cell_type": "code",
   "execution_count": 15,
   "id": "db3ab8ba",
   "metadata": {},
   "outputs": [],
   "source": [
    "#lit une phrase et trouve la première voyelle\n",
    "def lecture_phrase(phrase):\n",
    "    ch = \"aeouiyAEOUIY\"\n",
    "    for i in phrase:\n",
    "        if i in ch:\n",
    "            print(i,\"est une voyelle\")\n",
    "            break"
   ]
  },
  {
   "cell_type": "code",
   "execution_count": 16,
   "id": "3988ca39",
   "metadata": {},
   "outputs": [
    {
     "name": "stdout",
     "output_type": "stream",
     "text": [
      "o est une voyelle\n"
     ]
    }
   ],
   "source": [
    "phrase = \" nous sommes à l'école\"\n",
    "lecture_phrase(phrase)"
   ]
  },
  {
   "cell_type": "markdown",
   "id": "1d56bfe1",
   "metadata": {},
   "source": [
    "## ii/ # Lit une phrase et compte le nombre de voyelle qu'elle contient"
   ]
  },
  {
   "cell_type": "code",
   "execution_count": 29,
   "id": "3ab83463",
   "metadata": {},
   "outputs": [
    {
     "name": "stdout",
     "output_type": "stream",
     "text": [
      "La phrase: aqszdefrgtghyhujikolpmwxcvbn , contient 6 voyelles\n"
     ]
    }
   ],
   "source": [
    "# Lit une phrase et compte le nombre de voyelle qu'elle contient\n",
    "def nombre_deVoyelle(phrase):\n",
    "    k = 0\n",
    "    ch = \"aeouiyAEOUIY\"\n",
    "    for i in phrase:\n",
    "        if i in ch:\n",
    "            k += 1\n",
    "            \n",
    "    print(\"La phrase:\",phrase,\", contient\", k, \"voyelles\")\n",
    "            \n",
    "nombre_deVoyelle(\"aqszdefrgtghyhujikolpmwxcvbn\")"
   ]
  },
  {
   "cell_type": "markdown",
   "id": "be5d12a6",
   "metadata": {},
   "source": [
    "## renvoie les voyelles"
   ]
  },
  {
   "cell_type": "code",
   "execution_count": 30,
   "id": "949d8836",
   "metadata": {},
   "outputs": [
    {
     "name": "stdout",
     "output_type": "stream",
     "text": [
      "e est une voyelle\n"
     ]
    }
   ],
   "source": [
    "# renvoie les voyelles\n",
    "def isVowel(ch):\n",
    "    ch1 = \"aeouiyAEOUIY\"\n",
    "    for i in ch:\n",
    "        if i in ch1:\n",
    "            print(i, \"est une voyelle\")\n",
    "            \n",
    "isVowel('ertg')"
   ]
  },
  {
   "cell_type": "markdown",
   "id": "67d99e36",
   "metadata": {},
   "source": [
    "## iii/ lit les lettres et les écrire en majuscules"
   ]
  },
  {
   "cell_type": "code",
   "execution_count": 13,
   "id": "0a89ec09",
   "metadata": {},
   "outputs": [
    {
     "name": "stdout",
     "output_type": "stream",
     "text": [
      "A\n"
     ]
    }
   ],
   "source": [
    "# lit les lettres et les écrire en majuscules\n",
    "def lettre_majuscule(lettre):\n",
    "    print( lettre.upper())\n",
    "lettre_majuscule(\"a\")"
   ]
  },
  {
   "cell_type": "code",
   "execution_count": 81,
   "id": "683c45f6",
   "metadata": {},
   "outputs": [],
   "source": [
    "# lit les lettres et les écrire en majuscules\n",
    "def lettre_majuscul():\n",
    "    while True:\n",
    "        k = input(\"Entrez une littre:\")\n",
    "        if k.isdigit():\n",
    "            break\n",
    "        elif k.isalpha():\n",
    "            lettre_majuscule(k)"
   ]
  },
  {
   "cell_type": "code",
   "execution_count": 82,
   "id": "b39bb5ff",
   "metadata": {},
   "outputs": [
    {
     "name": "stdout",
     "output_type": "stream",
     "text": [
      "Entrez une littre:k\n",
      "K\n",
      "Entrez une littre:u\n",
      "U\n",
      "Entrez une littre:e\n",
      "E\n",
      "Entrez une littre:a\n",
      "A\n",
      "Entrez une littre:r\n",
      "R\n",
      "Entrez une littre:p\n",
      "P\n",
      "Entrez une littre:k\n",
      "K\n",
      "Entrez une littre:2\n"
     ]
    }
   ],
   "source": [
    "lettre_majuscul()"
   ]
  },
  {
   "cell_type": "markdown",
   "id": "ba1b0242",
   "metadata": {},
   "source": [
    "## iv/ Compte le nombre de chaque voyelle dans une phrase"
   ]
  },
  {
   "cell_type": "code",
   "execution_count": 74,
   "id": "0a65e8e2",
   "metadata": {},
   "outputs": [
    {
     "name": "stdout",
     "output_type": "stream",
     "text": [
      "Entrez une phrase en majuscule: DONNONS BEAUCOUP\n",
      "number of A is 1\n",
      "number of E is 1\n",
      "number of I is 0\n",
      "number of O is 3\n",
      "number of U is 2\n",
      "number of Y is 0\n"
     ]
    }
   ],
   "source": [
    "def CompteurDeVoyelle():\n",
    "    ch = input('Entrez une phrase en majuscule: ')\n",
    "    voyelle = {'A': 0, 'E': 0, 'I': 0, 'O': 0, 'U': 0, 'Y': 0}\n",
    "    for i in ch:\n",
    "        if i.islower():\n",
    "            print('Mettez la chaine en majuscule')\n",
    "            return\n",
    "    for i in ch:\n",
    "        if i in voyelle.keys():\n",
    "            voyelle[i] += 1\n",
    "            \n",
    "    for i in voyelle.keys():\n",
    "        print('number of', i, 'is', voyelle[i])\n",
    "CompteurDeVoyelle()"
   ]
  },
  {
   "cell_type": "markdown",
   "id": "3b69bf15",
   "metadata": {},
   "source": [
    "## v/ lit une phrase et compare le nombre de fois que les lettres b et c apparaissent\n"
   ]
  },
  {
   "cell_type": "code",
   "execution_count": 6,
   "id": "833ddcf4",
   "metadata": {},
   "outputs": [
    {
     "name": "stdout",
     "output_type": "stream",
     "text": [
      "Entrez une littre:ccccccbbbbbberrttyhggfdesdf\n",
      "Le nombre de fois que b apparait est: 6\n",
      "Le nombre de fois que b apparait est: 6\n",
      "La phrase contient autant de b que c\n"
     ]
    }
   ],
   "source": [
    "# lit une phrase et compare le nombre de fois que les lettres b et c apparaissent\n",
    "def lect_compare_nombre():\n",
    "    phrase = input(\"Entrez une littre:\")\n",
    "    i = 0\n",
    "    j = 0\n",
    "    for k in phrase:\n",
    "        if k == 'b':\n",
    "            i += 1\n",
    "        elif k == 'c':\n",
    "            j += 1 \n",
    "        \n",
    "    print(\"Le nombre de fois que b apparait est:\",i)\n",
    "         \n",
    "    print(\"Le nombre de fois que b apparait est:\",j)\n",
    "    if i<j:\n",
    "        print( \"Le nombre de b inférieur au nombre de c\")\n",
    "    elif i>j:\n",
    "        print( \"Le nombre de b supérieur au nombre de c\")\n",
    "    else:\n",
    "        if i==0:\n",
    "            print( \"La phrase ne contient ni de b ni c\") \n",
    "        else:\n",
    "            print( \"La phrase contient autant de b que c\")\n",
    "        \n",
    "        \n",
    "lect_compare_nombre()    "
   ]
  },
  {
   "cell_type": "markdown",
   "id": "561e385a",
   "metadata": {},
   "source": [
    "## vi/ # prmière lettre de chaque mot en majuscule"
   ]
  },
  {
   "cell_type": "code",
   "execution_count": 21,
   "id": "d6a87d30",
   "metadata": {},
   "outputs": [
    {
     "name": "stdout",
     "output_type": "stream",
     "text": [
      "Entrez une phrase:errt bhhh\n"
     ]
    },
    {
     "data": {
      "text/plain": [
       "'  Errt Bhhh'"
      ]
     },
     "execution_count": 21,
     "metadata": {},
     "output_type": "execute_result"
    }
   ],
   "source": [
    "# prmière lettre de chaque mot en majuscule\n",
    "def premiere_lettre_majuscule():\n",
    "    ch = input(\"Entrez une phrase:\")\n",
    "    ch1 = ch.split(' ')\n",
    "    ch2 = ' ' \n",
    "    for i in ch1:\n",
    "        ch2 += ' '+ i.capitalize()\n",
    "    return ch2\n",
    "premiere_lettre_majuscule()"
   ]
  },
  {
   "cell_type": "markdown",
   "id": "7d4c53e8",
   "metadata": {},
   "source": [
    "## vii/ palindrome"
   ]
  },
  {
   "cell_type": "code",
   "execution_count": 20,
   "id": "16f86452",
   "metadata": {},
   "outputs": [
    {
     "name": "stdout",
     "output_type": "stream",
     "text": [
      "Entrez une littre:resssasser\n"
     ]
    },
    {
     "data": {
      "text/plain": [
       "('resssasser', \"la phrase n'est pas un palindrome\")"
      ]
     },
     "execution_count": 20,
     "metadata": {},
     "output_type": "execute_result"
    }
   ],
   "source": [
    "# palindrome\n",
    "def ispalindrome():\n",
    "    phrase = input(\"Entrez une littre:\")\n",
    "    if phrase.upper() == phrase[:: - 1].upper():\n",
    "        return phrase, \"la phrase est un palindrome\"\n",
    "    else:\n",
    "        return phrase, \"la phrase n'est pas un palindrome\"\n",
    "        \n",
    "            \n",
    "ispalindrome()         "
   ]
  },
  {
   "cell_type": "markdown",
   "id": "93f00f9e",
   "metadata": {},
   "source": [
    "## viii/ Nombre d'occurrence d'un mot donné dans un texte"
   ]
  },
  {
   "cell_type": "code",
   "execution_count": 11,
   "id": "725bdae8",
   "metadata": {},
   "outputs": [],
   "source": [
    "def Nombre_Occurrence(texte, mot):\n",
    "    j = 0\n",
    "    T = texte.upper().split(' ')\n",
    "    for i in T:\n",
    "        if i == mot.upper():\n",
    "            j += 1\n",
    "    print(mot, 'apparait', j, 'fois')"
   ]
  },
  {
   "cell_type": "code",
   "execution_count": 12,
   "id": "3ba24a3c",
   "metadata": {},
   "outputs": [
    {
     "name": "stdout",
     "output_type": "stream",
     "text": [
      "n apparait 0 fois\n"
     ]
    }
   ],
   "source": [
    "Nombre_Occurrence('dd on not xcd not' , 'n')"
   ]
  },
  {
   "cell_type": "markdown",
   "id": "37699941",
   "metadata": {},
   "source": [
    "## f/ Le score d'un gymnaste"
   ]
  },
  {
   "cell_type": "code",
   "execution_count": 14,
   "id": "1820d546",
   "metadata": {},
   "outputs": [
    {
     "name": "stdout",
     "output_type": "stream",
     "text": [
      "Le score le plus faible est 1, et le score le plus élévé est 10.\n"
     ]
    }
   ],
   "source": [
    "score = (1, 2, 3, 4, 5, 6, 7, 8, 9, 10)\n",
    "score[len(score)-1]\n",
    "print('Le score le plus faible est {}, et le score le plus élévé est {}.'.format(score[0], score[len(score)-1]))"
   ]
  },
  {
   "cell_type": "code",
   "execution_count": null,
   "id": "843961be",
   "metadata": {},
   "outputs": [],
   "source": []
  }
 ],
 "metadata": {
  "kernelspec": {
   "display_name": "Python 3",
   "language": "python",
   "name": "python3"
  },
  "language_info": {
   "codemirror_mode": {
    "name": "ipython",
    "version": 3
   },
   "file_extension": ".py",
   "mimetype": "text/x-python",
   "name": "python",
   "nbconvert_exporter": "python",
   "pygments_lexer": "ipython3",
   "version": "3.8.5"
  }
 },
 "nbformat": 4,
 "nbformat_minor": 5
}
