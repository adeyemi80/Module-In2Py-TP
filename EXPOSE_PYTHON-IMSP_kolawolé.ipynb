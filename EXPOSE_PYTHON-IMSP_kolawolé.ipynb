{
 "cells": [
  {
   "cell_type": "markdown",
   "id": "f037600f",
   "metadata": {},
   "source": [
    "# <center> <b> <span style=\"color:blue;\"> ETUDE DES EXPRESSIONS REGULIERES </span> </b></center>\n"
   ]
  },
  {
   "cell_type": "markdown",
   "id": "e601af84",
   "metadata": {},
   "source": [
    "### <left> <b> <span style=\"color:brown;\">Présenté par : </span> </b></left>[ADEYEMI Kolawolé](https://github.com/adeyemi80)\n"
   ]
  },
  {
   "cell_type": "markdown",
   "id": "c0d4dddb",
   "metadata": {},
   "source": [
    "## <center> <b> <span style=\"color:green;\"> DEFINITIONS</span> </b></center>\n"
   ]
  },
  {
   "cell_type": "markdown",
   "id": "3123e94f",
   "metadata": {},
   "source": [
    "Les expressions régulières( ou expressions rationnelles) sont utilisées \n",
    "dans quasiment tous les langages. Elles représentent des motifs qu'on \n",
    "recherche dans une chaîne de caractères.\n",
    "\n",
    "\n",
    "Par exemple, on peut chercher dans un fichier:\n",
    "    \n",
    "    - les lignes qui contiennent un numéro de téléphone,\n",
    "    - les lignes qui débutent par une adresse IP.\n",
    "    \n",
    "Par exemple, on peut chercher dans une chaîne de caractères:\n",
    "    \n",
    "    - une séquence qui commence par \"ex\" et se termine par \"le\",\n",
    "    -les mots qui commencent par \"ex\",\n",
    "    - les mots de quatre caractères de long,\n",
    "    - les mots sans majuscules.\n",
    "    \n",
    "On pourra aussi remplacer dans fichier (ou dans une chaîne de caractères):\n",
    "    \n",
    "    - des dates au format américain par des dates au format français,\n",
    "    - des logins écrits parfois avec des majuscules, des minuscules, des \n",
    "    caractères spéciaux par des logins normalisées.\n",
    "    "
   ]
  },
  {
   "cell_type": "markdown",
   "id": "9a8349c1",
   "metadata": {},
   "source": [
    "# <center> <b> <span style=\"color:green;\"> Le module re</span> </b></center>"
   ]
  },
  {
   "cell_type": "markdown",
   "id": "4d189ab3",
   "metadata": {},
   "source": [
    "Le module re fait partie de la bibliothèque standard et permet de\n",
    "compiler des motifs pour obtenir des expressions rationnelles \n",
    "utilisées pour analyser des textes:\n",
    "```python\n",
    "\n",
    "       import re\n",
    "    \n",
    "Par exemple, si on veut appliquer un motif pattern à une chaîne \n",
    "string, on utilise les deux lignes de code suivant:\n",
    "    \n",
    "    \n",
    "    prog = re.compile(pattern)\n",
    "    \n",
    "    result = prog.match(string)\n",
    "```\n",
    "    \n",
    "    "
   ]
  },
  {
   "cell_type": "markdown",
   "id": "03ac1c3c",
   "metadata": {},
   "source": [
    "### La fonction compile"
   ]
  },
  {
   "cell_type": "markdown",
   "id": "e68d2e82",
   "metadata": {},
   "source": [
    "```python\n",
    "Il faut noter que les deux lignes de codes\n",
    "\n",
    "prog = re.compile(pattern)\n",
    "    \n",
    "result = prog.match(string)\n",
    "    \n",
    "sont équivalente à : result = re.match(pattern, string)\n",
    "    \n",
    "        mais utiliser re.compile() et sauvegarder l'expression\n",
    "        rationnelle renvoyée pour la réutiliser est plus efficace \n",
    "        quand l'expression est amenée à être utilisée plusieurs \n",
    "        fois dansun même programme.\n",
    "```\n",
    "    "
   ]
  },
  {
   "cell_type": "markdown",
   "id": "d2b7b667",
   "metadata": {},
   "source": [
    "### La fonction search"
   ]
  },
  {
   "cell_type": "markdown",
   "id": "4413229f",
   "metadata": {},
   "source": [
    "```python\n",
    "re.search(pattern, string, flags=0) analyse string à la recherche du premier emplacement où \n",
    "l'expression rationnelle pattern trouve une correspance, et renvoie l'objet de correspondance \n",
    "trouvé. Renvoie None si aucune position dans la chaîne ne valide le motif; notez que cela est \n",
    "différent de trouver une correspondance avec une chaîne vide à un crertain endroit de la chaîne.\n",
    "\n",
    "Le comportement de certaines expressions peut être reconfiguré en ajoutant un \"flag\" enparamètre.\n",
    "\n",
    "- re.IGNORECASE\n",
    "Ignore la case\n",
    "\n",
    "- re.MULTILINE\n",
    "\n",
    "Par défaut, les caractères \"^\" et \"$\" désignent le début et la fin de tout le texte. Or, \n",
    "en mode multiligne, un \"^\" en début de re.search() considérera le début de chaque ligne, et \"$\" \n",
    "leurs fins. Pour partir uniquement du début de la chaîne globale, il faut alors ne plus \n",
    "utiliser \"re.search()\" mais \"re.match().\"\n",
    "\n",
    "- re.DOTLL\n",
    "\n",
    "Par défaut,.* et .+ s'arrêtent aux retours chariot(\\n). Pour qu'ils englobent \n",
    "ces retours à la ligne, il faut appeler re.DOTALL.\n",
    "```"
   ]
  },
  {
   "cell_type": "code",
   "execution_count": 3,
   "id": "5f377816",
   "metadata": {},
   "outputs": [
    {
     "name": "stdout",
     "output_type": "stream",
     "text": [
      "position du m\n",
      "42\n",
      "43\n"
     ]
    }
   ],
   "source": [
    "# Exemple1:\n",
    "import re\n",
    "chaine = \"Mélodie Monchel reçoit la gifle qu'elle semblait attendre patiemment\"\n",
    "ratio = re.compile('m')\n",
    "if ratio.search(chaine):\n",
    "    print('position du m')\n",
    "    print(ratio.search(chaine).start())\n",
    "    print(ratio.search(chaine).end())\n",
    "    \n"
   ]
  },
  {
   "cell_type": "code",
   "execution_count": null,
   "id": "a3535c42",
   "metadata": {},
   "outputs": [],
   "source": [
    "#42 est l'indeice du caractère m dans la chaine\n",
    "#43  est l'indeice du caractère m dans la chaine + 1\n"
   ]
  },
  {
   "cell_type": "code",
   "execution_count": 15,
   "id": "73019669",
   "metadata": {},
   "outputs": [
    {
     "name": "stdout",
     "output_type": "stream",
     "text": [
      "position du m\n",
      "0\n",
      "1\n"
     ]
    }
   ],
   "source": [
    "# Exemple2:\n",
    "import re\n",
    "chaine = \"Mélodie Monchel reçoit la gifle qu'elle semblait attendre patiemment\"\n",
    "ratio = re.compile('m', re.I)# re.I équivaut à re.IGNORECASE\n",
    "if ratio.search(chaine):\n",
    "    print('position du m')\n",
    "    print(ratio.search(chaine).start())\n",
    "    print(ratio.search(chaine).end())\n",
    "    \n"
   ]
  },
  {
   "cell_type": "code",
   "execution_count": null,
   "id": "fa5d73ed",
   "metadata": {},
   "outputs": [],
   "source": [
    "# 0 est l'indeice du caractère m dans la chaine\n",
    "# 1 est l'indeice du caractère m dans la chaine + 1\n",
    "#Il y a soit un m minuscule,soit un m majuscule au début de la chaîne"
   ]
  },
  {
   "cell_type": "markdown",
   "id": "130a4e0a",
   "metadata": {},
   "source": [
    "### La fonction match"
   ]
  },
  {
   "cell_type": "markdown",
   "id": "7eac6b5e",
   "metadata": {},
   "source": [
    "re.match(pattern, string, flags=0)\n",
    "\n",
    "Si zéro ou plus de caractères au début de string correspondent à \n",
    "l'expression rationnelle pattern, elle renvoie l'objet de correspondance \n",
    "trouvé. Renvoie None si la chaîne ne correspond pas au motif; notez \n",
    "que cela est différent d'une correspondance avec une chaîne vide.\n",
    "\n",
    "Notez que même en mode MULTILINE, re.match() ne validera qu'au début de\n",
    "la chaîne et non au début de chaque ligne.\n",
    "\n",
    "Si vous voulez trouver une correspondance n'importe où dans string, utilisez plutôt search().\n",
    "                                          \n",
    "                                          "
   ]
  },
  {
   "cell_type": "code",
   "execution_count": 5,
   "id": "a17e7748",
   "metadata": {},
   "outputs": [
    {
     "name": "stdout",
     "output_type": "stream",
     "text": [
      "None\n"
     ]
    }
   ],
   "source": [
    "\n",
    "#Exemple1:\n",
    "import re\n",
    "chaine = \"Mélodie Monchel reçoit la gifle qu'elle semblait attendre patiemment\"\n",
    "ratio = re.compile('m')\n",
    "print(ratio.match(chaine))"
   ]
  },
  {
   "cell_type": "code",
   "execution_count": null,
   "id": "f462e4cc",
   "metadata": {},
   "outputs": [],
   "source": [
    "#Il n'y a pas de m minuscule au début de la chaine"
   ]
  },
  {
   "cell_type": "code",
   "execution_count": 10,
   "id": "ce540697",
   "metadata": {},
   "outputs": [
    {
     "name": "stdout",
     "output_type": "stream",
     "text": [
      "position du m\n",
      "0\n",
      "1\n"
     ]
    }
   ],
   "source": [
    "\n",
    "# Exemple2:\n",
    "import re\n",
    "chaine = \"Mélodie Monchel reçoit la gifle qu'elle semblait attendre patiemment\"\n",
    "ratio = re.compile('m', re.I)# re.I équivaut à re.IGNORECASE\n",
    "if ratio.match(chaine):    \n",
    "    print('position du m')\n",
    "    print(ratio.match(chaine).start())\n",
    "    print(ratio.match(chaine).end())\n",
    "\n",
    "    "
   ]
  },
  {
   "cell_type": "code",
   "execution_count": null,
   "id": "b1596926",
   "metadata": {},
   "outputs": [],
   "source": [
    "# 0 est l'indeice du caractère m dans la chaine\n",
    "# 1 est l'indeice du caractère m dans la chaine + 1\n",
    "#Il y a soit un m minuscule,soit un  m majuscule au début de la chaîne"
   ]
  },
  {
   "cell_type": "markdown",
   "id": "cca3ef7e",
   "metadata": {},
   "source": [
    "### La fonction findall"
   ]
  },
  {
   "cell_type": "markdown",
   "id": "333a1635",
   "metadata": {},
   "source": [
    "re.findall(pattern, string, flags=0)\n",
    "\n",
    "Retourne la liste des correspondances de patern dans la chaîne string.\n",
    "Cette dernière est parcourue de gauche à droite et les correspondances\n",
    "sont renvoyées dans l'ordre où elles sont trouvées."
   ]
  },
  {
   "cell_type": "code",
   "execution_count": 6,
   "id": "2adb389d",
   "metadata": {},
   "outputs": [
    {
     "name": "stdout",
     "output_type": "stream",
     "text": [
      "['re', 're']\n"
     ]
    }
   ],
   "source": [
    "\n",
    "# Exemple:\n",
    "import re\n",
    "chaine = \"Mélodie Monchel reçoit la gifle qu'elle semblait attendre patiemment\"\n",
    "ratio = re.compile('re', re.I)\n",
    "print(ratio.findall(chaine))\n"
   ]
  },
  {
   "cell_type": "markdown",
   "id": "f86f9f9a",
   "metadata": {},
   "source": [
    "### La fonction sub"
   ]
  },
  {
   "cell_type": "code",
   "execution_count": null,
   "id": "ff117f6d",
   "metadata": {},
   "outputs": [],
   "source": [
    "re.sub(pattern, repl, string, count=0, flags=0)\n",
    "\n",
    "Renvoie la chaîne obtenue en remplaçant les occurrences(sans chevauchement) \n",
    "les plus à gauche de pattern dans string par le remplacement repl. Si le motif\n",
    "n'est pas trouvé, string est renvoyée inchangée. repl peut être une chaîne de \n",
    "caractères ou une fonction"
   ]
  },
  {
   "cell_type": "code",
   "execution_count": 9,
   "id": "85cb7535",
   "metadata": {},
   "outputs": [
    {
     "name": "stdout",
     "output_type": "stream",
     "text": [
      "Mélodie Monchel reçoit la gifle qu'elle semblait attendre patiemtant\n"
     ]
    }
   ],
   "source": [
    "\n",
    "import re\n",
    "chaine = \"Mélodie Monchel reçoit la gifle qu'elle semblait attendre patiemment\"\n",
    "ratio = re.sub('me','ta', chaine)\n",
    "print(ratio)\n"
   ]
  },
  {
   "cell_type": "code",
   "execution_count": null,
   "id": "d8c7dfac",
   "metadata": {},
   "outputs": [],
   "source": [
    "# Le me a été remplacé par ta"
   ]
  },
  {
   "cell_type": "markdown",
   "id": "e5159e1c",
   "metadata": {},
   "source": [
    "## Utilisation de pythex pour retrouvrer les motifs et des re"
   ]
  },
  {
   "cell_type": "markdown",
   "id": "b6720794",
   "metadata": {},
   "source": [
    "Allez sur <a href=\"pythex.org\">https://pythex.org/</a> \n",
    "    copier l'url dans un navigateur pour avoir accès à pythex"
   ]
  },
  {
   "cell_type": "code",
   "execution_count": null,
   "id": "03df4eb2",
   "metadata": {},
   "outputs": [],
   "source": []
  }
 ],
 "metadata": {
  "kernelspec": {
   "display_name": "Python 3",
   "language": "python",
   "name": "python3"
  },
  "language_info": {
   "codemirror_mode": {
    "name": "ipython",
    "version": 3
   },
   "file_extension": ".py",
   "mimetype": "text/x-python",
   "name": "python",
   "nbconvert_exporter": "python",
   "pygments_lexer": "ipython3",
   "version": "3.8.5"
  }
 },
 "nbformat": 4,
 "nbformat_minor": 5
}
