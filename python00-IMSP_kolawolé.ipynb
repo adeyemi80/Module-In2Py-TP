{
 "cells": [
  {
   "cell_type": "code",
   "execution_count": null,
   "id": "cf1e8757",
   "metadata": {},
   "outputs": [],
   "source": [
    "a)8,5\n",
    "b)8,5\n",
    "c) heigth = 12.0 # height/3 = 4.0\n",
    "d)1+2*5 # 11\n",
    "delimiter ='.'#delimiter*5= '.....'\n",
    "\n"
   ]
  },
  {
   "cell_type": "code",
   "execution_count": 13,
   "id": "7f8c23cb",
   "metadata": {},
   "outputs": [
    {
     "name": "stdout",
     "output_type": "stream",
     "text": [
      "523.5987755982989\n"
     ]
    }
   ],
   "source": [
    "radius = 5\n",
    "pi = 3.1415926535897931\n",
    "v= (4/3)*pi*pow(r,3)\n",
    "print(v)"
   ]
  },
  {
   "cell_type": "code",
   "execution_count": null,
   "id": "7d2010e1",
   "metadata": {},
   "outputs": [],
   "source": [
    "#KNOWING MORE ABOUT DATA TYPES AND THEIR OPERATIONS\n",
    "1. 1 and 5 are \n"
   ]
  }
 ],
 "metadata": {
  "kernelspec": {
   "display_name": "Python 3",
   "language": "python",
   "name": "python3"
  },
  "language_info": {
   "codemirror_mode": {
    "name": "ipython",
    "version": 3
   },
   "file_extension": ".py",
   "mimetype": "text/x-python",
   "name": "python",
   "nbconvert_exporter": "python",
   "pygments_lexer": "ipython3",
   "version": "3.8.5"
  }
 },
 "nbformat": 4,
 "nbformat_minor": 5
}
