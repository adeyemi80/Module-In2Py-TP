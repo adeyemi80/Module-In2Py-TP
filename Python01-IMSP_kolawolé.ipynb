{
 "cells": [
  {
   "cell_type": "markdown",
   "id": "60a68b0e",
   "metadata": {},
   "source": [
    "In2Py-01-Conditionals & For loops"
   ]
  },
  {
   "cell_type": "markdown",
   "id": "5beec89b",
   "metadata": {},
   "source": [
    "1 UMMATIONS AND PRODUCTS"
   ]
  },
  {
   "cell_type": "markdown",
   "id": "792d42be",
   "metadata": {},
   "source": [
    "(i)"
   ]
  },
  {
   "cell_type": "code",
   "execution_count": 15,
   "id": "9a9a5104",
   "metadata": {},
   "outputs": [
    {
     "ename": "IndentationError",
     "evalue": "expected an indented block (<ipython-input-15-e8d230a4da9c>, line 4)",
     "output_type": "error",
     "traceback": [
      "\u001b[0;36m  File \u001b[0;32m\"<ipython-input-15-e8d230a4da9c>\"\u001b[0;36m, line \u001b[0;32m4\u001b[0m\n\u001b[0;31m    somme = somme + i\u001b[0m\n\u001b[0m    ^\u001b[0m\n\u001b[0;31mIndentationError\u001b[0m\u001b[0;31m:\u001b[0m expected an indented block\n"
     ]
    }
   ],
   "source": [
    "n = 10\n",
    "somme = 0\n",
    "for i in range(1,n-1):\n",
    "somme = somme + i\n",
    "print(somme)\n",
    "\n",
    "\n"
   ]
  },
  {
   "cell_type": "code",
   "execution_count": 8,
   "id": "a1d8fabf",
   "metadata": {},
   "outputs": [
    {
     "ename": "IndentationError",
     "evalue": "expected an indented block (<ipython-input-8-22eac24df342>, line 3)",
     "output_type": "error",
     "traceback": [
      "\u001b[0;36m  File \u001b[0;32m\"<ipython-input-8-22eac24df342>\"\u001b[0;36m, line \u001b[0;32m3\u001b[0m\n\u001b[0;31m    s=s+3\u001b[0m\n\u001b[0m    ^\u001b[0m\n\u001b[0;31mIndentationError\u001b[0m\u001b[0;31m:\u001b[0m expected an indented block\n"
     ]
    }
   ],
   "source": [
    "s = 0\n",
    "n=n%2\n",
    "if s<7:\n",
    "s=s+3"
   ]
  },
  {
   "cell_type": "code",
   "execution_count": null,
   "id": "a0de6221",
   "metadata": {},
   "outputs": [],
   "source": []
  }
 ],
 "metadata": {
  "kernelspec": {
   "display_name": "Python 3",
   "language": "python",
   "name": "python3"
  },
  "language_info": {
   "codemirror_mode": {
    "name": "ipython",
    "version": 3
   },
   "file_extension": ".py",
   "mimetype": "text/x-python",
   "name": "python",
   "nbconvert_exporter": "python",
   "pygments_lexer": "ipython3",
   "version": "3.8.5"
  }
 },
 "nbformat": 4,
 "nbformat_minor": 5
}
