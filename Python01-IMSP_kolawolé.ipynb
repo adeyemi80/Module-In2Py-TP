{
 "cells": [
  {
   "cell_type": "markdown",
   "id": "e1b72b06",
   "metadata": {},
   "source": [
    "In2Py-01-Conditionals & For loops"
   ]
  },
  {
   "cell_type": "markdown",
   "id": "75dd2503",
   "metadata": {},
   "source": [
    "1 UMMATIONS AND PRODUCTS"
   ]
  },
  {
   "cell_type": "markdown",
   "id": "870a5f33",
   "metadata": {},
   "source": [
    "(i)"
   ]
  },
  {
   "cell_type": "code",
   "execution_count": null,
   "id": "5ab941d2",
   "metadata": {},
   "outputs": [],
   "source": [
    "somme = 0\n",
    "for i in range(1,n):\n",
    "somme =((i%2)=0)\n",
    "print(somme = somme +3)"
   ]
  },
  {
   "cell_type": "markdown",
   "id": "3db156af",
   "metadata": {},
   "source": [
    "(ii)"
   ]
  },
  {
   "cell_type": "code",
   "execution_count": null,
   "id": "a803fb98",
   "metadata": {},
   "outputs": [],
   "source": [
    "product = 1\n",
    "for i in range(1,n):\n",
    "product = product*((i%2)=1)\n",
    "print(product)"
   ]
  },
  {
   "cell_type": "markdown",
   "id": "fb4c3023",
   "metadata": {},
   "source": [
    "2"
   ]
  },
  {
   "cell_type": "code",
   "execution_count": 18,
   "id": "99dfd8f3",
   "metadata": {},
   "outputs": [
    {
     "ename": "IndentationError",
     "evalue": "expected an indented block (<ipython-input-18-da856955a135>, line 3)",
     "output_type": "error",
     "traceback": [
      "\u001b[0;36m  File \u001b[0;32m\"<ipython-input-18-da856955a135>\"\u001b[0;36m, line \u001b[0;32m3\u001b[0m\n\u001b[0;31m    if semaine[0]\u001b[0m\n\u001b[0m    ^\u001b[0m\n\u001b[0;31mIndentationError\u001b[0m\u001b[0;31m:\u001b[0m expected an indented block\n"
     ]
    }
   ],
   "source": [
    "semaine =liste ([\"lundi\", \"mardi\", \"mercredi\", \"jeudi\", \"vendredi\", \"samedi\", \"dimanche\"])\n",
    "for i in range(7):\n",
    "if semaine[0]\n",
    "print(\"nous sommes au lundi\")\n",
    "elif semaine[1]\n",
    "print(\"nous sommes au mardi\")\n",
    "elif semaine[2]\n",
    "print(\"nous sommes au mercredi\")\n",
    "elif semaine[3]\n",
    "print(\"nous sommes au jeudi\")\n",
    "elif semaine[4]\n",
    "print(\"nous sommes au vendredi\")\n",
    "elif semaine[5]\n",
    "print(\"nous sommes au samedi\")\n",
    "else semaine[6]\n",
    "print(\"nous sommes au dimanche\")\n"
   ]
  }
 ],
 "metadata": {
  "kernelspec": {
   "display_name": "Python 3",
   "language": "python",
   "name": "python3"
  },
  "language_info": {
   "codemirror_mode": {
    "name": "ipython",
    "version": 3
   },
   "file_extension": ".py",
   "mimetype": "text/x-python",
   "name": "python",
   "nbconvert_exporter": "python",
   "pygments_lexer": "ipython3",
   "version": "3.8.5"
  }
 },
 "nbformat": 4,
 "nbformat_minor": 5
}
