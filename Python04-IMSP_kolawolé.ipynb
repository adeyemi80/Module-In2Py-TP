{
 "cells": [
  {
   "cell_type": "markdown",
   "id": "ff226038",
   "metadata": {},
   "source": [
    "## 1. Programme qui gère la liste des produits"
   ]
  },
  {
   "cell_type": "code",
   "execution_count": 39,
   "id": "44e2c620",
   "metadata": {},
   "outputs": [],
   "source": [
    "def gest_produit(action):\n",
    "    \"\"\"__Gerer les produits\"\"\"\n",
    "    \n",
    "    if(action==1):\n",
    "        produit = input(\"Veuillez entrer le nom du produit\")\n",
    "        prix = int(input(\"Veuillez entrer le prix\"))\n",
    "        prod.update({produit:prix})\n",
    "        print(\"Votre produit a été bien ajouter\")\n",
    "    elif(action==2):\n",
    "        produit = input(\"Veuillez entrer le nom du produit\")\n",
    "        prix = int(input(\"Veuillez entrer le prix\"))\n",
    "        prod[produit] = prix\n",
    "        print(\"Le prix de votre produit a été bien modifier\")\n",
    "    elif(action==3):\n",
    "        produit = input(\"Veuillez entrer le nom du produit\")\n",
    "        print(prod[produit])\n",
    "    else:\n",
    "        print(\"Veuillez vérifier votre choix. Je ne peux pas vous aider\")\n",
    "        menu()\n",
    "def menu():\n",
    "    print(\"1- Ajouter un produit et son prix \")\n",
    "    print(\"2- Modifier le prix d'un produit \")\n",
    "    print(\"3- Consulter le prix d'un produit \")\n",
    "    choix = int(input(\"Votre choix svp \"))\n",
    "    return gest_produit(choix)\n",
    "    "
   ]
  },
  {
   "cell_type": "markdown",
   "id": "303035c9",
   "metadata": {},
   "source": [
    "## 2"
   ]
  },
  {
   "cell_type": "code",
   "execution_count": 33,
   "id": "070a041c",
   "metadata": {},
   "outputs": [],
   "source": [
    "def menu1():\n",
    "    print(\"1- Ajouter un nouveau nom et son numero de téléphone \")\n",
    "    print(\"2- Rechercher un numéro de téléphone à partir de son nom \")\n",
    "    print(\"3- Rechercher un nom à partir de son numéro de téléphone \")\n",
    "    print(\"4- Imprimer la liste complète des téléphones \")\n",
    "    choix = int(input(\"Votre choix svp \"))\n",
    "    return liste_telephonique(choix)\n",
    "tel = {}\n",
    "def liste_telephonique(action):\n",
    "    \"\"\"__Gerer les produits\"\"\"\n",
    "    \n",
    "    if(action==1):\n",
    "        nom = input(\"Veuillez entrer le nom \")\n",
    "        numero = int(input(\"Veuillez entrer le numéro \"))\n",
    "        tel.update({nom:numero})\n",
    "        print(\"Enregistrement effectuer avec succès\")\n",
    "    elif(action==2):\n",
    "        nom = input(\"Veuillez entrer le nom du propriétaire à rechercher \")\n",
    "        for i in tel:\n",
    "            if(i==nom):\n",
    "                print(\"Le numero a été retrouver \")\n",
    "                print(\"Le numero correspondant est :\",tel[i])\n",
    "                \n",
    "    elif(action==3):\n",
    "        numero = int(input(\"Veuillez entrer le numero du propriétaire à rechercher \"))\n",
    "        for i in tel:\n",
    "            if(tel[i]==numero):\n",
    "                print(\"Le nom a été retrouver \")\n",
    "                print(\"Le nom correspondant est :\",i)\n",
    "    elif(action==4):\n",
    "        for x, y in tel.items():\n",
    "            print(x, y)\n",
    "    else:\n",
    "        print(\"Veuillez vérifier votre choix. Je ne peux pas vous aider\")\n",
    "        menu()"
   ]
  },
  {
   "cell_type": "markdown",
   "id": "36f62f61",
   "metadata": {},
   "source": [
    "# 4"
   ]
  },
  {
   "cell_type": "code",
   "execution_count": 29,
   "id": "0c0f96c7",
   "metadata": {},
   "outputs": [
    {
     "name": "stdout",
     "output_type": "stream",
     "text": [
      "La longueur du plus long mot est : 17\n"
     ]
    }
   ],
   "source": [
    "def find_longest_word(liste):\n",
    "    long = []\n",
    "    for i in liste:\n",
    "        long.append(len(i))\n",
    "    return max(long)\n",
    "lis = ['romain','Grantique','Branleromapatique']\n",
    "print(\"La longueur du plus long mot est :\",find_longest_word(lis))"
   ]
  },
  {
   "cell_type": "markdown",
   "id": "e45c7b58",
   "metadata": {},
   "source": [
    "# 5"
   ]
  },
  {
   "cell_type": "code",
   "execution_count": 37,
   "id": "40a2fb56",
   "metadata": {},
   "outputs": [
    {
     "name": "stdout",
     "output_type": "stream",
     "text": [
      "god jul och gott nytt ar \n"
     ]
    }
   ],
   "source": [
    "\n",
    "def Traduction(phrase):\n",
    "    dico = {\"merry\":\"god\", \"christmas\":\"jul\", \"and\":\"och\", \"happy\":\"gott\", \"new\":\"nytt\", \"year\":\"ar\"}\n",
    "    traduction = \"\"\n",
    "    phrase_list = phrase.split(' ')\n",
    "    for i in phrase_list:\n",
    "        for j in dico:\n",
    "            if(i==j):\n",
    "                traduction += dico[j] +' '\n",
    "                break\n",
    "    return traduction\n",
    "\n",
    "print(Traduction(\"merry christmas and happy new year\"))\n",
    "        "
   ]
  },
  {
   "cell_type": "markdown",
   "id": "7a716d53",
   "metadata": {},
   "source": [
    "# 6"
   ]
  },
  {
   "cell_type": "code",
   "execution_count": 32,
   "id": "07afb7ac",
   "metadata": {},
   "outputs": [
    {
     "data": {
      "text/plain": [
       "True"
      ]
     },
     "execution_count": 32,
     "metadata": {},
     "output_type": "execute_result"
    }
   ],
   "source": [
    "def membre(x,li):\n",
    "    result = False\n",
    "    j = 0\n",
    "    while j < len(li):\n",
    "        if(x==li[j]):\n",
    "            result = True\n",
    "        j+=1\n",
    "    return result\n",
    "membre(8,[8,96,'poi'])"
   ]
  },
  {
   "cell_type": "markdown",
   "id": "42ad7dcc",
   "metadata": {},
   "source": [
    "# 7"
   ]
  },
  {
   "cell_type": "code",
   "execution_count": 35,
   "id": "1243ad46",
   "metadata": {},
   "outputs": [
    {
     "name": "stdout",
     "output_type": "stream",
     "text": [
      "****\n",
      "*********\n",
      "*******\n"
     ]
    }
   ],
   "source": [
    "def histogramme(l):\n",
    "    for i in l:\n",
    "        print(i*'*')\n",
    "histogramme([4,9,7])"
   ]
  },
  {
   "cell_type": "markdown",
   "id": "42766df9",
   "metadata": {},
   "source": [
    "# 8"
   ]
  },
  {
   "cell_type": "code",
   "execution_count": 36,
   "id": "71b3fff0",
   "metadata": {},
   "outputs": [
    {
     "name": "stdout",
     "output_type": "stream",
     "text": [
      "name Amour\n",
      "homework [90.0, 97.0, 75.0, 92.0]\n",
      "quizzes [88.0, 40.0, 94.0]\n",
      "tests [75.0, 90.0]\n",
      "name Paix\n",
      "homework [100.0, 92.0, 98.0, 100.0]\n",
      "quizzes [82.0, 83.0, 91.0]\n",
      "tests [89.0, 97.0]\n",
      "name Foi\n",
      "homework [0.0, 87.0, 75.0, 22.0]\n",
      "quizzes [0.0, 75.0, 78.0]\n",
      "tests [100.0, 100.0]\n"
     ]
    }
   ],
   "source": [
    "def ge():\n",
    "    Amour = {\"name\": \"Amour\",\"homework\": [90.0,97.0,75.0,92.0],\"quizzes\": [88.0,40.0,94.0],\"tests\": [75.0,90.0]}\n",
    "    Paix = {\"name\": \"Paix\",\"homework\": [100.0, 92.0, 98.0, 100.0],\"quizzes\": [82.0, 83.0, 91.0],\"tests\": [89.0, 97.0]}\n",
    "    Foi = {\"name\": \"Foi\",\"homework\": [0.0, 87.0, 75.0, 22.0],\"quizzes\": [0.0, 75.0, 78.0],\"tests\": [100.0, 100.0]}\n",
    "    etudiant = [Amour,Paix,Foi]\n",
    "    for i in etudiant:\n",
    "        for x, y in i.items():\n",
    "            print(x, y)\n",
    "ge()"
   ]
  },
  {
   "cell_type": "code",
   "execution_count": null,
   "id": "84b5fd3b",
   "metadata": {},
   "outputs": [],
   "source": []
  }
 ],
 "metadata": {
  "kernelspec": {
   "display_name": "Python 3",
   "language": "python",
   "name": "python3"
  },
  "language_info": {
   "codemirror_mode": {
    "name": "ipython",
    "version": 3
   },
   "file_extension": ".py",
   "mimetype": "text/x-python",
   "name": "python",
   "nbconvert_exporter": "python",
   "pygments_lexer": "ipython3",
   "version": "3.8.5"
  }
 },
 "nbformat": 4,
 "nbformat_minor": 5
}
